{
 "cells": [
  {
   "cell_type": "markdown",
   "metadata": {},
   "source": [
    "## Single input"
   ]
  },
  {
   "cell_type": "code",
   "execution_count": 8,
   "metadata": {},
   "outputs": [
    {
     "name": "stdout",
     "output_type": "stream",
     "text": [
      "Input=8.5, Weight=0.1, Pred=0.8500000000000001, Error=0.022499999999999975, Delta=-0.1499999999999999\n"
     ]
    }
   ],
   "source": [
    "import numpy as np\n",
    "\n",
    "number_of_toes= [8.5]\n",
    "win_or_lose_binary= [1]\n",
    "input= number_of_toes[0]\n",
    "true= win_or_lose_binary[0]\n",
    "weights= [0.1, 0.2, -0.1]\n",
    "weight= weights[0]\n",
    "#print(weight)\n",
    "pred= np.multiply(input,weight)\n",
    "error= (pred-true) ** 2\n",
    "delta= pred-true\n",
    "print(\"Input=\"+ str(input) + \", Weight=\" + str(weight) +\", Pred=\" + str(pred) +\", Error=\" +str(error)+ \", Delta=\" + str(delta))"
   ]
  },
  {
   "cell_type": "markdown",
   "metadata": {},
   "source": [
    "## Multi input "
   ]
  },
  {
   "cell_type": "code",
   "execution_count": 14,
   "metadata": {},
   "outputs": [
    {
     "name": "stdout",
     "output_type": "stream",
     "text": [
      "Input=[8.5, 0.65, 1.2], Weight=[0.1, 0.2, -0.1], Pred=0.8600000000000001, Error=0.01959999999999997, Delta=-0.1399999999999999\n"
     ]
    }
   ],
   "source": [
    "toes= [8.5, 9.5, 9.9, 9.0]\n",
    "wlrec= [0.65, 0.8, 0.8, 0.9]\n",
    "nfans= [1.2, 1.3, 0.5, 1.0]\n",
    "win_or_lose_binary= [1,1,0,1]\n",
    "true= win_or_lose_binary[0]\n",
    "\n",
    "input= [toes[0], wlrec[0], nfans[0]]\n",
    "pred= sum(np.multiply(input, weights))\n",
    "error= (pred-true) ** 2\n",
    "delta= pred-true\n",
    "\n",
    "print(\"Input=\"+ str(input) + \", Weight=\" + str(weights) +\", Pred=\" + str(pred) +\", Error=\" +str(error)+ \", Delta=\" + str(delta))"
   ]
  },
  {
   "cell_type": "markdown",
   "metadata": {},
   "source": [
    "## Single input- calculating weight of delta "
   ]
  },
  {
   "cell_type": "code",
   "execution_count": 17,
   "metadata": {},
   "outputs": [],
   "source": [
    "import numpy as np\n",
    "\n",
    "def neural_network(input, weight):\n",
    "    pred=input*weight\n",
    "    return pred"
   ]
  },
  {
   "cell_type": "code",
   "execution_count": 25,
   "metadata": {},
   "outputs": [
    {
     "name": "stdout",
     "output_type": "stream",
     "text": [
      "Weight=0.1\n",
      "Input=8.5, Pred=0.8500000000000001, Pred2=0.8500000000000001, Error=0.022499999999999975, Delta=-0.1499999999999999, Weight of delta=-1.2749999999999992\n"
     ]
    }
   ],
   "source": [
    "number_of_toes= [8.5]\n",
    "win_or_lose_binary= [1]\n",
    "\n",
    "input= number_of_toes[0]\n",
    "true= win_or_lose_binary[0]\n",
    "print(\"Weight=\" + str(weight))\n",
    "\n",
    "pred= neural_network(input, weight)\n",
    "pred2= np.multiply(input, weight)\n",
    "error= (pred - true)** 2\n",
    "delta= pred -  true\n",
    "weight_delta= delta * input\n",
    "print(\"Input=\" + str(input) + \", Pred=\" + str(pred) + \", Pred2=\" + str(pred2) + \", Error=\" + str(error) + \", Delta=\" + str(delta) + \", Weight of delta=\" + str(weight_delta))"
   ]
  },
  {
   "cell_type": "markdown",
   "metadata": {},
   "source": [
    "## Multi input- calculating weight of delta"
   ]
  },
  {
   "cell_type": "code",
   "execution_count": 49,
   "metadata": {},
   "outputs": [],
   "source": [
    "def ele_mul(input, weight):\n",
    "    output= np.multiply(input,weight)\n",
    "    return output\n",
    "\n",
    "def neural_network(input,weight):\n",
    "    pred= np.ones(3)\n",
    "    for i in range(3):\n",
    "        pred = ele_mul(input,weight)\n",
    "        return pred"
   ]
  },
  {
   "cell_type": "code",
   "execution_count": 68,
   "metadata": {},
   "outputs": [
    {
     "name": "stdout",
     "output_type": "stream",
     "text": [
      "Weight=[0.1 0.1 0.1], Weights=[0.1, 0.2, -0.1]\n",
      "Input=[8.5, 0.65, 1.2], Pred=0.8600000000000001, Error=0.01959999999999997, Delta=0.1399999999999999, Weight of delta=[1.19  0.091 0.168]\n"
     ]
    }
   ],
   "source": [
    "input= [toes[0], wlrec[0], nfans[0]]\n",
    "weights= [0.1, 0.2, -0.1]\n",
    "weight= ([0.1] * np.ones(3))\n",
    "print(\"Weight=\" + str(weight) + \", Weights=\" + str(weights))\n",
    "\n",
    "pred= sum(neural_network(input, weights))\n",
    "error= (pred-true) ** 2\n",
    "delta= pred-true\n",
    "delta= -delta\n",
    "weight_deltas=ele_mul(delta, input)\n",
    "print(\"Input=\" + str(input) + \", Pred=\" + str(pred) + \", Error=\" + str(error) + \", Delta=\" + str(delta) + \", Weight of delta=\" + str(weight_deltas))"
   ]
  },
  {
   "cell_type": "code",
   "execution_count": 72,
   "metadata": {},
   "outputs": [
    {
     "name": "stdout",
     "output_type": "stream",
     "text": [
      "Weight ini=[0.1, 0.2, -0.1], Alpha=[0.01 0.01 0.01], Weight of delta=[1.19  0.091 0.168], Alpha * Weight of delta=[0.0119  0.00091 0.00168], Current weights=[ 0.0881   0.19909 -0.10168]\n"
     ]
    }
   ],
   "source": [
    "#Updating the weight\n",
    "weights1= weights\n",
    "alpha= (0.01 * np.ones(3))\n",
    "weight_updated= np.multiply(weight_deltas, alpha)\n",
    "weights3= weights1-weight_updated\n",
    "\n",
    "print(\"Weight ini=\" + str(weights1) + \", Alpha=\" + str(alpha) + \", Weight of delta=\" + str(weight_deltas) + \", Alpha * Weight of delta=\" + str(weight_updated) + \", Current weights=\" + str(weights3))"
   ]
  },
  {
   "cell_type": "markdown",
   "metadata": {},
   "source": [
    "## Resumen (Pag. 88)"
   ]
  },
  {
   "cell_type": "code",
   "execution_count": 80,
   "metadata": {},
   "outputs": [],
   "source": [
    "toes= [8.5, 9.5, 9.9, 9.0]\n",
    "wlrec= [0.65, 0.8, 0.8, 0.9]\n",
    "nfans= [1.2, 1.3, 0.5, 1.0]\n",
    "\n",
    "win_or_lose_binary= [1,1,0,1]\n",
    "true= win_or_lose_binary[0]\n",
    "alpha= 0.01\n",
    "weights= [0.1, 0.2, -0.1]\n",
    "input= [toes[0], wlrec[0], nfans[0]]"
   ]
  },
  {
   "cell_type": "code",
   "execution_count": 81,
   "metadata": {},
   "outputs": [],
   "source": [
    "def ele_mul(input, weight):\n",
    "    output= np.multiply(input,weight)\n",
    "    return output\n",
    "\n",
    "def neural_network(input,weight):\n",
    "    pred= np.ones(3)\n",
    "    for i in range(3):\n",
    "        pred = sum(ele_mul(input,weight))\n",
    "        return pred"
   ]
  },
  {
   "cell_type": "code",
   "execution_count": 82,
   "metadata": {},
   "outputs": [
    {
     "name": "stdout",
     "output_type": "stream",
     "text": [
      " \n",
      "Iteration:1\n",
      "Pred:0.8600000000000001\n",
      "Error:0.01959999999999997\n",
      "Delta:-0.1399999999999999\n",
      "Weights:[0.1, 0.2, -0.1]\n",
      "Weights of delta:\n",
      "[-1.19  -0.091 -0.168]\n",
      " \n",
      "Iteration:2\n",
      "Pred:0.9637574999999999\n",
      "Error:0.0013135188062500048\n",
      "Delta:-0.036242500000000066\n",
      "Weights:[0.1119, 0.20091, -0.09832]\n",
      "Weights of delta:\n",
      "[-0.30806125 -0.02355763 -0.043491  ]\n",
      " \n",
      "Iteration:3\n",
      "Pred:0.9906177228125002\n",
      "Error:8.802712522307997e-05\n",
      "Delta:-0.009382277187499843\n",
      "Weights:[0.11498061250000001, 0.20114557625, -0.09788509000000001]\n",
      "Weights of delta:\n",
      "[-0.07974936 -0.00609848 -0.01125873]\n"
     ]
    }
   ],
   "source": [
    "for iter in range(3):\n",
    "    pred= neural_network(input, weights)\n",
    "    error= (pred-true) ** 2\n",
    "    delta= pred - true\n",
    "    weight_deltas= ele_mul(input, delta)\n",
    "    \n",
    "    print(\" \")\n",
    "    print(\"Iteration:\" + str(iter+1))\n",
    "    print(\"Pred:\" + str(pred))\n",
    "    print(\"Error:\" + str(error))\n",
    "    print(\"Delta:\" + str(delta))\n",
    "    print(\"Weights:\" + str(weights))\n",
    "    print(\"Weights of delta:\")\n",
    "    print(str(weight_deltas))\n",
    "    print\n",
    "    \n",
    "    for i in range(len(weights)):\n",
    "        weights[i] -= np.multiply(alpha, weight_deltas[i])\n",
    "    "
   ]
  },
  {
   "cell_type": "markdown",
   "metadata": {},
   "source": [
    "## Resumen (Pag. 90)"
   ]
  },
  {
   "cell_type": "code",
   "execution_count": 88,
   "metadata": {},
   "outputs": [
    {
     "name": "stdout",
     "output_type": "stream",
     "text": [
      " \n",
      "Iteration:1\n",
      "Pred:0.8600000000000001\n",
      "Error:0.01959999999999997\n",
      "Delta:-0.1399999999999999\n",
      "Weights:[0.1, 0.2, -0.1]\n",
      "Weights of delta:\n",
      "[-1.19  -0.091 -0.168]\n",
      " \n",
      "Iteration:2\n",
      "Pred:3.972724999999998\n",
      "Error:8.837093925624988\n",
      "Delta:2.972724999999998\n",
      "Weights:[0.45699999999999974, 0.2273, -0.04960000000000005]\n",
      "Weights of delta:\n",
      "[25.2681625   1.93227125  3.56727   ]\n",
      " \n",
      "Iteration:3\n",
      "Pred:-62.12209946874995\n",
      "Error:3984.3994413427627\n",
      "Delta:-63.12209946874995\n",
      "Weights:[-7.123448749999994, -0.3523813749999995, -1.1197809999999992]\n",
      "Weights of delta:\n",
      "[-536.53784548  -41.02936465  -75.74651936]\n"
     ]
    }
   ],
   "source": [
    "alpha= 0.3\n",
    "weights=[0.1, 0.2, -0.1]\n",
    "input=[toes[0], wlrec[0], nfans[0]]\n",
    "\n",
    "for iter in range(3):\n",
    "    pred= neural_network(input, weights)\n",
    "    error= (pred-true)** 2\n",
    "    delta= pred-true\n",
    "    weight_deltas= ele_mul(input, delta)\n",
    "    #weight_deltas[0]= 0\n",
    "    \n",
    "    print(\" \")\n",
    "    print(\"Iteration:\" + str(iter+1))\n",
    "    print(\"Pred:\" + str(pred))\n",
    "    print(\"Error:\" + str(error))\n",
    "    print(\"Delta:\" + str(delta))\n",
    "    print(\"Weights:\" + str(weights))\n",
    "    print(\"Weights of delta:\")\n",
    "    print(str(weight_deltas))\n",
    "    print\n",
    "    \n",
    "    for i in range(len(weights)):\n",
    "        weights[i] -= np.multiply(alpha, weight_deltas[i])"
   ]
  },
  {
   "cell_type": "markdown",
   "metadata": {},
   "source": [
    "# Gradient descent learning with multiple outputs"
   ]
  },
  {
   "cell_type": "code",
   "execution_count": 121,
   "metadata": {},
   "outputs": [],
   "source": [
    "weights= [0.3, 0.2, 0.9]\n",
    "wlrec= [0.65, 1.0, 1.0, 0.9]\n",
    "hurt= [0.1, 0.0, 0.0, 0.1]\n",
    "win= [1,1,0,1]\n",
    "sad= [0.1, 0.0, 0.1, 0.2]\n",
    "\n",
    "input= wlrec[0]\n",
    "true= [hurt[0], win[0], sad[0]]\n",
    "\n",
    "def neural_network(input, weights):\n",
    "    pred= np.multiply(input, weights)\n",
    "    return pred"
   ]
  },
  {
   "cell_type": "code",
   "execution_count": 122,
   "metadata": {},
   "outputs": [
    {
     "name": "stdout",
     "output_type": "stream",
     "text": [
      "Prediction= [0.195 0.13  0.585]\n"
     ]
    }
   ],
   "source": [
    "pred= (neural_network(input, weights))\n",
    "print(\"Prediction= \" + str(pred))"
   ]
  },
  {
   "cell_type": "code",
   "execution_count": 126,
   "metadata": {},
   "outputs": [],
   "source": [
    "error= [0,0,0]\n",
    "delta= [0,0,0]\n",
    "weights2= np.ones(3)\n",
    "\n",
    "for i in range(len(true)):\n",
    "    error[i]= (pred[i] - true[i] )** 2\n",
    "    delta[i]= pred[i] - true[i]\n",
    "    weight_deltas[i]= np.multiply(input, weights[i])\n",
    "    weights2[i]= weights[i] - (weight_deltas[i] * 0.1)"
   ]
  },
  {
   "cell_type": "code",
   "execution_count": 128,
   "metadata": {},
   "outputs": [
    {
     "name": "stdout",
     "output_type": "stream",
     "text": [
      "Input= 0.65, Weights= [0.3, 0.2, 0.9], Pred= [0.195 0.13  0.585], Error= [0.009025, 0.7569, 0.2352250000000001], Delta= [0.095, -0.87, 0.4850000000000001], Weight of delta= [0.195 0.13  0.585], Weights update= [0.2805 0.187  0.8415]\n"
     ]
    }
   ],
   "source": [
    "print(\"Input= \" + str(input) + \", Weights= \" + str(weights) + \", Pred= \" + str(pred) + \", Error= \" + str(error) + \", Delta= \" + str(delta) + \", Weight of delta= \" + str(weight_deltas) + \", Weights update= \" + str(weights2))\n",
    "\n",
    "    "
   ]
  },
  {
   "cell_type": "markdown",
   "metadata": {},
   "source": [
    "# Gradient descent with multiple inputs and outputs"
   ]
  },
  {
   "cell_type": "code",
   "execution_count": 187,
   "metadata": {},
   "outputs": [],
   "source": [
    "weights= np.array([[0.1, 0.1, -0.3], #hurt?\n",
    "         [0.1, 0.2, 0.0], #win?\n",
    "         [0.0, 1.3, 0.1]]) #sad?\n",
    "\n",
    "toes= np.array([8.5, 9.5, 9.9, 9.0])\n",
    "wlrec= np.array([0.65, 0.8, 0.8, 0.9])\n",
    "nfans= np.array([1.2, 1.3, 0.5, 1.0])\n",
    "hurt= [0.1, 0.0, 0.0, 0.1]\n",
    "win= [1,1,0,1]\n",
    "sad= [0.1, 0.0, 0.1, 0.2]\n",
    "alpha= 0.01\n",
    "\n",
    "input= np.array([toes[0], wlrec[0], nfans[0]])\n",
    "true= np.array([hurt[0], win[0], sad[0]])\n"
   ]
  },
  {
   "cell_type": "code",
   "execution_count": 188,
   "metadata": {},
   "outputs": [],
   "source": [
    "#print(\"Input= \"+ str(input)+\"Weights= \"+ str(weights))\n",
    "#prod= np.ones(3)\n",
    "#for i in range(3):\n",
    " #   prod[i]= np.dot(input, weights[i])\n",
    "#print(weights[i], prod)"
   ]
  },
  {
   "cell_type": "code",
   "execution_count": 189,
   "metadata": {},
   "outputs": [],
   "source": [
    "#def neural_network(input, weights):\n",
    " #   pred= np.ones(3)\n",
    "  #  for i in range(3):\n",
    "   #     pred[i]= np.dot(input, weights[i])\n",
    "    #    return pred"
   ]
  },
  {
   "cell_type": "code",
   "execution_count": 190,
   "metadata": {},
   "outputs": [
    {
     "name": "stdout",
     "output_type": "stream",
     "text": [
      "Input= [8.5  0.65 1.2 ], Prediction= [0.555 0.98  0.965], Error= [0.20702500000000007, 0.0003999999999999963, 0.7482250000000001], Delta= [0.45500000000000007, -0.019999999999999907, 0.8650000000000001]\n"
     ]
    }
   ],
   "source": [
    "#pred= neural_network(input, weights)\n",
    "pred= np.ones(3)\n",
    "for i in range(3):\n",
    "    pred[i]= np.dot(input, weights[i])\n",
    "\n",
    "error= [0,0,0]\n",
    "delta= [0,0,0]\n",
    "\n",
    "for i in range(len(true)):\n",
    "    error[i]= (pred[i] - true[i]) ** 2\n",
    "    delta[i]= pred[i] - true[i]\n",
    "          \n",
    "print(\"Input= \" + str(input) + \", Prediction= \" + str(pred) + \", Error= \" + str(error) + \", Delta= \" + str(delta))"
   ]
  },
  {
   "cell_type": "code",
   "execution_count": 191,
   "metadata": {},
   "outputs": [
    {
     "name": "stdout",
     "output_type": "stream",
     "text": [
      "Weight of delta= [ 3.8675 -0.013   1.038 ], Weight update= [[ 0.061325  0.10013  -0.31038 ]\n",
      " [ 0.061325  0.20013  -0.01038 ]\n",
      " [-0.038675  1.30013   0.08962 ]]\n"
     ]
    }
   ],
   "source": [
    "weight_delta= np.multiply(input, delta)\n",
    "weight_update= weights - (weight_delta*alpha) \n",
    "\n",
    "print(\"Weight of delta= \"+str(weight_delta) + \", Weight update= \"+ str(weight_update))"
   ]
  },
  {
   "cell_type": "code",
   "execution_count": 192,
   "metadata": {},
   "outputs": [],
   "source": [
    "#Otro procedimiento\n",
    "\n",
    "def outer_prod(vec_a, vec_b):\n",
    "    out= np.ones((len(vec_a), len(vec_b)))\n",
    "    for i in range(len(vec_a)):\n",
    "        for j in range(len(vec_b)):\n",
    "            out[i][j]= vec_a[i]*vec_b[j]\n",
    "            return out"
   ]
  },
  {
   "cell_type": "code",
   "execution_count": 193,
   "metadata": {},
   "outputs": [
    {
     "name": "stdout",
     "output_type": "stream",
     "text": [
      "Weight of deltas= [[3.8675 1.     1.    ]\n",
      " [1.     1.     1.    ]\n",
      " [1.     1.     1.    ]], Weights= [[ 0.061325  0.1      -0.3     ]\n",
      " [ 0.1       0.2       0.      ]\n",
      " [ 0.        1.3       0.1     ]]\n",
      "Weight of deltas= [[3.8675 1.     1.    ]\n",
      " [1.     1.     1.    ]\n",
      " [1.     1.     1.    ]], Weights= [[ 0.061325  0.09     -0.3     ]\n",
      " [ 0.1       0.2       0.      ]\n",
      " [ 0.        1.3       0.1     ]]\n",
      "Weight of deltas= [[3.8675 1.     1.    ]\n",
      " [1.     1.     1.    ]\n",
      " [1.     1.     1.    ]], Weights= [[ 0.061325  0.09     -0.31    ]\n",
      " [ 0.1       0.2       0.      ]\n",
      " [ 0.        1.3       0.1     ]]\n",
      "Weight of deltas= [[3.8675 1.     1.    ]\n",
      " [1.     1.     1.    ]\n",
      " [1.     1.     1.    ]], Weights= [[ 0.061325  0.09     -0.31    ]\n",
      " [ 0.09      0.2       0.      ]\n",
      " [ 0.        1.3       0.1     ]]\n",
      "Weight of deltas= [[3.8675 1.     1.    ]\n",
      " [1.     1.     1.    ]\n",
      " [1.     1.     1.    ]], Weights= [[ 0.061325  0.09     -0.31    ]\n",
      " [ 0.09      0.19      0.      ]\n",
      " [ 0.        1.3       0.1     ]]\n",
      "Weight of deltas= [[3.8675 1.     1.    ]\n",
      " [1.     1.     1.    ]\n",
      " [1.     1.     1.    ]], Weights= [[ 0.061325  0.09     -0.31    ]\n",
      " [ 0.09      0.19     -0.01    ]\n",
      " [ 0.        1.3       0.1     ]]\n",
      "Weight of deltas= [[3.8675 1.     1.    ]\n",
      " [1.     1.     1.    ]\n",
      " [1.     1.     1.    ]], Weights= [[ 0.061325  0.09     -0.31    ]\n",
      " [ 0.09      0.19     -0.01    ]\n",
      " [-0.01      1.3       0.1     ]]\n",
      "Weight of deltas= [[3.8675 1.     1.    ]\n",
      " [1.     1.     1.    ]\n",
      " [1.     1.     1.    ]], Weights= [[ 0.061325  0.09     -0.31    ]\n",
      " [ 0.09      0.19     -0.01    ]\n",
      " [-0.01      1.29      0.1     ]]\n",
      "Weight of deltas= [[3.8675 1.     1.    ]\n",
      " [1.     1.     1.    ]\n",
      " [1.     1.     1.    ]], Weights= [[ 0.061325  0.09     -0.31    ]\n",
      " [ 0.09      0.19     -0.01    ]\n",
      " [-0.01      1.29      0.09    ]]\n"
     ]
    }
   ],
   "source": [
    "weight_deltas= outer_prod(input, delta)\n",
    "\n",
    "for i in range(len(weights)):\n",
    "    for j in range(len(weights[0])):\n",
    "        weights[i][j] -= alpha * (weight_deltas[i][j])\n",
    "        \n",
    "        print(\"Weight of deltas= \"+str(weight_deltas)+\", Weights= \"+str(weights))"
   ]
  },
  {
   "cell_type": "code",
   "execution_count": null,
   "metadata": {},
   "outputs": [],
   "source": []
  }
 ],
 "metadata": {
  "kernelspec": {
   "display_name": "Python 3",
   "language": "python",
   "name": "python3"
  },
  "language_info": {
   "codemirror_mode": {
    "name": "ipython",
    "version": 3
   },
   "file_extension": ".py",
   "mimetype": "text/x-python",
   "name": "python",
   "nbconvert_exporter": "python",
   "pygments_lexer": "ipython3",
   "version": "3.6.4"
  }
 },
 "nbformat": 4,
 "nbformat_minor": 2
}
