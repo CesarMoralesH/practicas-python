{
 "cells": [
  {
   "cell_type": "code",
   "execution_count": 23,
   "metadata": {},
   "outputs": [],
   "source": [
    "import numpy as np"
   ]
  },
  {
   "cell_type": "code",
   "execution_count": 24,
   "metadata": {},
   "outputs": [],
   "source": [
    "weights= np.array([0.5, 0.48, -0.7])\n",
    "alpha= 0.1\n",
    "\n",
    "streetlights= np.array([[1,0,1], [0,1,1], [0,0,1], [1,1,1],[0,1,1],\n",
    "                       [1,0,1]])\n",
    "\n",
    "walk_vs_stop= np.array([0,1,0,1,1,0]) #true\n",
    "\n",
    "input= streetlights[0] #[1,0,1]\n",
    "goal_prediction= walk_vs_stop[0]"
   ]
  },
  {
   "cell_type": "code",
   "execution_count": 25,
   "metadata": {
    "scrolled": true
   },
   "outputs": [
    {
     "name": "stdout",
     "output_type": "stream",
     "text": [
      "Iteration= 0Error total= 0.04000000346498337, Error: 0.03999999999999998, Prediction: -0.19999999999999996\n",
      "Iteration= 1Error total= 0.06560000346498335, Error: 0.025599999999999973, Prediction: -0.15999999999999992\n",
      "Iteration= 2Error total= 0.08198400346498332, Error: 0.01638399999999997, Prediction: -0.1279999999999999\n",
      "Iteration= 3Error total= 0.09246976346498328, Error: 0.010485759999999964, Prediction: -0.10239999999999982\n",
      "Iteration= 4Error total= 0.09918064986498325, Error: 0.006710886399999962, Prediction: -0.08191999999999977\n",
      "Iteration= 5Error total= 0.10347561716098322, Error: 0.004294967295999976, Prediction: -0.06553599999999982\n",
      "Iteration= 6Error total= 0.10622439623042321, Error: 0.002748779069439994, Prediction: -0.05242879999999994\n",
      "Iteration= 7Error total= 0.10798361483486481, Error: 0.0017592186044416036, Prediction: -0.04194304000000004\n",
      "Iteration= 8Error total= 0.10910951474170744, Error: 0.0011258999068426293, Prediction: -0.03355443200000008\n",
      "Iteration= 9Error total= 0.10983009068208671, Error: 0.0007205759403792803, Prediction: -0.02684354560000002\n",
      "Iteration= 10Error total= 0.11029125928392945, Error: 0.0004611686018427356, Prediction: -0.021474836479999926\n",
      "Iteration= 11Error total= 0.11058640718910881, Error: 0.0002951479051793508, Prediction: -0.01717986918399994\n",
      "Iteration= 12Error total= 0.1107753018484236, Error: 0.00018889465931478573, Prediction: -0.013743895347199997\n",
      "Iteration= 13Error total= 0.11089619443038506, Error: 0.00012089258196146188, Prediction: -0.010995116277759953\n",
      "Iteration= 14Error total= 0.1109735656828404, Error: 7.737125245533561e-05, Prediction: -0.008796093022207963\n",
      "Iteration= 15Error total= 0.11102308328441182, Error: 4.951760157141604e-05, Prediction: -0.007036874417766459\n",
      "Iteration= 16Error total= 0.11105477454941753, Error: 3.169126500570676e-05, Prediction: -0.0056294995342132115\n",
      "Iteration= 17Error total= 0.11107505695902119, Error: 2.028240960365233e-05, Prediction: -0.004503599627370569\n",
      "Iteration= 18Error total= 0.11108803770116753, Error: 1.298074214633813e-05, Prediction: -0.003602879701896544\n",
      "Iteration= 19Error total= 0.11109634537614119, Error: 8.307674973656916e-06, Prediction: -0.002882303761517324\n",
      "Iteration= 20Error total= 0.11110166228812432, Error: 5.316911983140017e-06, Prediction: -0.0023058430092137705\n",
      "Iteration= 21Error total= 0.11110506511179354, Error: 3.4028236692096106e-06, Prediction: -0.0018446744073710164\n",
      "Iteration= 22Error total= 0.11110724291894183, Error: 2.177807148294282e-06, Prediction: -0.0014757395258968575\n",
      "Iteration= 23Error total= 0.11110863671551674, Error: 1.3937965749083403e-06, Prediction: -0.001180591620717486\n",
      "Iteration= 24Error total= 0.11110952874532468, Error: 8.920298079413378e-07, Prediction: -0.0009444732965739888\n",
      "Iteration= 25Error total= 0.11111009964440176, Error: 5.708990770825904e-07, Prediction: -0.0007555786372592799\n",
      "Iteration= 26Error total= 0.11111046501981109, Error: 3.653754093328579e-07, Prediction: -0.0006044629098074239\n",
      "Iteration= 27Error total= 0.11111069886007306, Error: 2.3384026197294315e-07, Prediction: -0.0004835703278458503\n",
      "Iteration= 28Error total= 0.11111084851784073, Error: 1.4965776766264926e-07, Prediction: -0.00038685626227663583\n",
      "Iteration= 29Error total= 0.11111094429881203, Error: 9.578097130409553e-08, Prediction: -0.00030948500982130867\n",
      "Iteration= 30Error total= 0.11111100559863367, Error: 6.129982163457715e-08, Prediction: -0.0002475880078569581\n",
      "Iteration= 31Error total= 0.11111104483051952, Error: 3.923188584614697e-08, Prediction: -0.0001980704062856109\n",
      "Iteration= 32Error total= 0.11111106993892646, Error: 2.5108406941548135e-08, Prediction: -0.00015845632502853313\n",
      "Iteration= 33Error total= 0.1111110860083069, Error: 1.6069380442568288e-08, Prediction: -0.00012676506002273769\n",
      "Iteration= 34Error total= 0.11111109629271038, Error: 1.0284403483261718e-08, Prediction: -0.00010141204801827897\n",
      "Iteration= 35Error total= 0.11111110287472861, Error: 6.5820182292947054e-09, Prediction: -8.112963841466758e-05\n",
      "Iteration= 36Error total= 0.11111110708722027, Error: 4.212491666737083e-09, Prediction: -6.490371073164525e-05\n",
      "Iteration= 37Error total= 0.11111110978321494, Error: 2.6959946667163447e-09, Prediction: -5.192296858536061e-05\n",
      "Iteration= 38Error total= 0.11111111150865152, Error: 1.7254365866910818e-09, Prediction: -4.153837486819967e-05\n",
      "Iteration= 39Error total= 0.11111111261293094, Error: 1.1042794154763895e-09, Prediction: -3.3230699894470916e-05\n"
     ]
    }
   ],
   "source": [
    "for iteration in range(40):\n",
    "    prediction= input.dot(weights)\n",
    "    error= (prediction-goal_prediction) ** 2\n",
    "    delta= prediction - goal_prediction\n",
    "    weight_deltas= np.multiply(input, delta)\n",
    "    weights= weights-(alpha*weight_deltas)\n",
    "    error_all_lights += error\n",
    "    #error_all_lights += error_all_lights\n",
    "    \n",
    "    print(\"Iteration= \"+str(iteration)+\", Error total= \"+str(error_all_lights) +\", Error: \"+ str(error) + \", Prediction: \" + str(prediction))"
   ]
  },
  {
   "cell_type": "code",
   "execution_count": null,
   "metadata": {},
   "outputs": [],
   "source": []
  }
 ],
 "metadata": {
  "kernelspec": {
   "display_name": "Python 3",
   "language": "python",
   "name": "python3"
  },
  "language_info": {
   "codemirror_mode": {
    "name": "ipython",
    "version": 3
   },
   "file_extension": ".py",
   "mimetype": "text/x-python",
   "name": "python",
   "nbconvert_exporter": "python",
   "pygments_lexer": "ipython3",
   "version": "3.6.4"
  }
 },
 "nbformat": 4,
 "nbformat_minor": 2
}
