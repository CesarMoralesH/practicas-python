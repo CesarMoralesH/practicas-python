{
 "cells": [
  {
   "cell_type": "markdown",
   "metadata": {},
   "source": [
    "## One iteration of gradient descent"
   ]
  },
  {
   "cell_type": "code",
   "execution_count": 351,
   "metadata": {},
   "outputs": [],
   "source": [
    "weight= 0.1\n",
    "alpha= 0.1"
   ]
  },
  {
   "cell_type": "code",
   "execution_count": 352,
   "metadata": {},
   "outputs": [],
   "source": [
    "#An empty network\n",
    "def neural_network(input, weight):\n",
    "    prediction= input * weight\n",
    "    return prediction"
   ]
  },
  {
   "cell_type": "code",
   "execution_count": 353,
   "metadata": {},
   "outputs": [
    {
     "name": "stdout",
     "output_type": "stream",
     "text": [
      "0.022499999999999975\n"
     ]
    }
   ],
   "source": [
    "#Predict\n",
    "number_of_toes= [8.5]\n",
    "win_or_lose_binary= [1] #won!!!\n",
    "\n",
    "input= number_of_toes[0]\n",
    "goal_pred= win_or_lose_binary[0]\n",
    "\n",
    "pred= neural_network(input, weight)\n",
    "error= (pred - goal_pred) ** 2\n",
    "print(error)"
   ]
  },
  {
   "cell_type": "code",
   "execution_count": 354,
   "metadata": {},
   "outputs": [
    {
     "name": "stdout",
     "output_type": "stream",
     "text": [
      "-0.1499999999999999\n"
     ]
    }
   ],
   "source": [
    "#Compare\n",
    "delta= pred - goal_pred\n",
    "print(delta)"
   ]
  },
  {
   "cell_type": "code",
   "execution_count": 355,
   "metadata": {},
   "outputs": [
    {
     "name": "stdout",
     "output_type": "stream",
     "text": [
      "-1.2749999999999992\n"
     ]
    }
   ],
   "source": [
    "#Learn\n",
    "weight_delta= input * delta\n",
    "print(weight_delta)"
   ]
  },
  {
   "cell_type": "code",
   "execution_count": 356,
   "metadata": {},
   "outputs": [
    {
     "name": "stdout",
     "output_type": "stream",
     "text": [
      "0.22749999999999992\n"
     ]
    }
   ],
   "source": [
    "#Learn\n",
    "weight -= weight_delta * alpha\n",
    "print(weight)"
   ]
  },
  {
   "cell_type": "markdown",
   "metadata": {},
   "source": [
    "### Example 2"
   ]
  },
  {
   "cell_type": "code",
   "execution_count": 357,
   "metadata": {},
   "outputs": [],
   "source": [
    "weight, goal_pred, input= (0.0, 8.5, 0.5)"
   ]
  },
  {
   "cell_type": "code",
   "execution_count": 358,
   "metadata": {},
   "outputs": [
    {
     "name": "stdout",
     "output_type": "stream",
     "text": [
      "Error:72.25, Prediction:0.0, Weight=4.25\n",
      "Error:40.640625, Prediction:2.125, Weight=7.4375\n",
      "Error:22.8603515625, Prediction:3.71875, Weight=9.828125\n",
      "Error:12.85894775390625, Prediction:4.9140625, Weight=11.62109375\n"
     ]
    }
   ],
   "source": [
    "for iteration in range(4):\n",
    "    pred= input*weight\n",
    "    error= (pred-goal_pred) **2\n",
    "    delta= pred-goal_pred\n",
    "    weight_delta= delta * input\n",
    "    weight= weight - weight_delta\n",
    "    print(\"Error:\" + str(error) + \", Prediction:\" + str(pred)+ \", Weight=\" + str(weight))"
   ]
  },
  {
   "cell_type": "code",
   "execution_count": 359,
   "metadata": {},
   "outputs": [],
   "source": [
    "#error= ((input * weight) - goal_pred) ** 2"
   ]
  },
  {
   "cell_type": "code",
   "execution_count": 360,
   "metadata": {},
   "outputs": [
    {
     "name": "stdout",
     "output_type": "stream",
     "text": [
      "17.0\n"
     ]
    }
   ],
   "source": [
    "weight_0= goal_pred/input\n",
    "print(weight_0)"
   ]
  },
  {
   "cell_type": "code",
   "execution_count": 361,
   "metadata": {},
   "outputs": [
    {
     "name": "stdout",
     "output_type": "stream",
     "text": [
      "0.0\n"
     ]
    }
   ],
   "source": [
    "error_0= ((input * weight_0) - goal_pred) ** 2\n",
    "print(error_0)"
   ]
  },
  {
   "cell_type": "code",
   "execution_count": 416,
   "metadata": {},
   "outputs": [],
   "source": [
    "##GRADIENT DESCENT LEARNING WITH MULTIPLE INPUTS\n",
    "# An empty network with multiple inputs"
   ]
  },
  {
   "cell_type": "code",
   "execution_count": 419,
   "metadata": {},
   "outputs": [],
   "source": [
    "import numpy as np"
   ]
  },
  {
   "cell_type": "code",
   "execution_count": 639,
   "metadata": {},
   "outputs": [],
   "source": [
    "weights= [0.1, 0.2, -0.1]\n",
    "toes= [8.5, 9.5, 9.9, 9.0]\n",
    "wlrec= [0.65, 0.8, 0.8, 0.9]\n",
    "nfans= [1.2, 1.3, 0.5, 1.0]\n",
    "win_or_lose_binary= [1, 1, 0, 1]"
   ]
  },
  {
   "cell_type": "code",
   "execution_count": 640,
   "metadata": {},
   "outputs": [
    {
     "name": "stdout",
     "output_type": "stream",
     "text": [
      "Input:[8.5, 0.65, 1.2], Weights:[0.1, 0.2, -0.1]\n"
     ]
    }
   ],
   "source": [
    "true= win_or_lose_binary[0]\n",
    "input= [toes[0], wlrec[0], nfans[0]]\n",
    "print(\"Input:\" + str(input) + \", Weights:\" + str(weights))"
   ]
  },
  {
   "cell_type": "code",
   "execution_count": 642,
   "metadata": {},
   "outputs": [],
   "source": [
    "def w_sum(a,b):\n",
    "    assert(len(a) == len(b))\n",
    "    output = 0\n",
    "    for i in range(len(a)):\n",
    "        output += (a[i] * b[i])\n",
    "        print(\"Input:\" + str(a) + \", Weights:\" + str(b) + \", Prediction:\" + str(output) + \", i=\" + str(i))\n",
    "        return output"
   ]
  },
  {
   "cell_type": "code",
   "execution_count": 643,
   "metadata": {},
   "outputs": [],
   "source": [
    "def neural_network(input, weights):\n",
    "    pred= w_sum(input, weights)\n",
    "    return pred"
   ]
  },
  {
   "cell_type": "code",
   "execution_count": 646,
   "metadata": {},
   "outputs": [],
   "source": [
    "##def ele_mul (delta, vector):\n",
    "  ##  output = np.zeros(len(vector))\n",
    "    ##number= (delta * np.ones(3))\n",
    "    #print(\"delta:\" + str(number))\n",
    "    ##assert(len(number) == len(vector))\n",
    "    #for i in range(len(vector)):\n",
    "      ##  output[i] = (number[i] * vector[i]) #Imprimir las 3 operaciones\n",
    "     #   print(\"Delta:\" + str(number)+\", Intput:\" + str(vector))\n",
    "      #  print(\"Output:\" + str(output) + \", i= \" +str(i))\n",
    "       # return output"
   ]
  },
  {
   "cell_type": "code",
   "execution_count": 647,
   "metadata": {},
   "outputs": [],
   "source": [
    "# print(\"Input:\" + str(input) + \", Weights:\" + str(weights))    #pred= neural_network(input, weights)"
   ]
  },
  {
   "cell_type": "code",
   "execution_count": 648,
   "metadata": {},
   "outputs": [],
   "source": [
    "##import numpy as np\n",
    "##a= [1,0,1]\n",
    "##b= [2,0,3]\n",
    "##m= np.multiply(a,b)\n",
    "\n",
    "#c=0\n",
    "#range(len(a))\n",
    "#def ejem (a,b):\n",
    " #   c= np.zeros(3)\n",
    "  #  assert(len(a)==len(b))\n",
    "   # for i in range(len(a)):\n",
    "    #    print(a, b)\n",
    "     #   c[i]= np.dot(a, b)\n",
    "       # range(len(c))\n",
    "        #print(i)\n",
    "      #  return c\n",
    "#c=ejem(a,b)\n",
    "##print(m)"
   ]
  },
  {
   "cell_type": "code",
   "execution_count": 661,
   "metadata": {},
   "outputs": [
    {
     "name": "stdout",
     "output_type": "stream",
     "text": [
      "Input:[8.5, 0.65, 1.2], Weights:[0.08725000000000001, 0.18725000000000003, -0.11275], Prediction:0.7416250000000001, i=0\n",
      "Delta:0.14\n",
      "Prediction:0.7416250000000001, Error:0.06675764062499995, Delta:0.14, Weights of deltas:[1.19  0.091 0.168]\n"
     ]
    }
   ],
   "source": [
    "pred= neural_network(input, weights)\n",
    "error= (pred - true) ** 2\n",
    "delta= 0.14#pred - true #Trask cambio el signo\n",
    "print(\"Delta:\" + str(delta))\n",
    "#deltas= (delta*(np.zeros(3)))\n",
    "#wd= deltas*input\n",
    "#print(deltas, wd)\n",
    "weight_deltas= np.multiply (delta, input)\n",
    "print(\"Prediction:\" + str(pred) + \", Error:\" + str(error)+\", Delta:\" + str(delta) + \", Weights of deltas:\" + str(weight_deltas))"
   ]
  },
  {
   "cell_type": "code",
   "execution_count": 662,
   "metadata": {
    "scrolled": true
   },
   "outputs": [
    {
     "name": "stdout",
     "output_type": "stream",
     "text": [
      "[1.19  0.091 0.168]\n"
     ]
    }
   ],
   "source": [
    "print(weight_deltas)\n"
   ]
  },
  {
   "cell_type": "code",
   "execution_count": 686,
   "metadata": {},
   "outputs": [
    {
     "name": "stdout",
     "output_type": "stream",
     "text": [
      "[0.1, 0.2, -0.1]\n"
     ]
    }
   ],
   "source": [
    "alpha= 0.01\n",
    "weights= [0.1, 0.2, -0.1]\n",
    "print (weights)\n",
    "for i in range (len(weights)):\n",
    "    weights[i] -= np.multiply(alpha, weight_deltas)"
   ]
  },
  {
   "cell_type": "code",
   "execution_count": 688,
   "metadata": {},
   "outputs": [
    {
     "name": "stdout",
     "output_type": "stream",
     "text": [
      "[array([0.0881 , 0.09909, 0.09832]), array([0.1881 , 0.19909, 0.19832]), array([-0.1119 , -0.10091, -0.10168])]\n"
     ]
    }
   ],
   "source": [
    "print(weights) ##Los valores de resultado es la matriz diagonal"
   ]
  },
  {
   "cell_type": "code",
   "execution_count": null,
   "metadata": {},
   "outputs": [],
   "source": []
  },
  {
   "cell_type": "code",
   "execution_count": null,
   "metadata": {},
   "outputs": [],
   "source": []
  }
 ],
 "metadata": {
  "kernelspec": {
   "display_name": "Python 3",
   "language": "python",
   "name": "python3"
  },
  "language_info": {
   "codemirror_mode": {
    "name": "ipython",
    "version": 3
   },
   "file_extension": ".py",
   "mimetype": "text/x-python",
   "name": "python",
   "nbconvert_exporter": "python",
   "pygments_lexer": "ipython3",
   "version": "3.6.4"
  }
 },
 "nbformat": 4,
 "nbformat_minor": 2
}
