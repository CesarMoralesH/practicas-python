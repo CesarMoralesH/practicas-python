{
 "cells": [
  {
   "cell_type": "code",
   "execution_count": 14,
   "metadata": {},
   "outputs": [
    {
     "name": "stdout",
     "output_type": "stream",
     "text": [
      "\u001b[H\u001b[2J"
     ]
    }
   ],
   "source": [
    "clear all"
   ]
  },
  {
   "cell_type": "code",
   "execution_count": 15,
   "metadata": {},
   "outputs": [],
   "source": [
    "weights=[0.1, 0.2, 0]"
   ]
  },
  {
   "cell_type": "code",
   "execution_count": 16,
   "metadata": {},
   "outputs": [],
   "source": [
    "#a=input\n",
    "#b=weights\n",
    "#assert(len(a) == len(b))\n",
    "#output = 0\n",
    "#print(output)\n",
    "## i=0\n",
    "#\n",
    "#for i in range(3):\n",
    "#        output += (a[i] * b[i]) \n",
    "##        return output\n",
    "#print(\"El resultado es\",output)"
   ]
  },
  {
   "cell_type": "code",
   "execution_count": 17,
   "metadata": {},
   "outputs": [],
   "source": [
    "#asm= w_sum([1, 2],[0,1])\n",
    "#a= [1, 2]\n",
    "#b= [0,1]\n",
    "#assert(len(a) == len(b))\n",
    "#output = 0\n",
    "#print (asm)\n",
    "\n",
    "#print(len(a), len(b),output)\n",
    "\n",
    "#for i in range(2):\n",
    " #   output += (a[i] * b[i]) \n",
    "# return output\n",
    "#print(output)"
   ]
  },
  {
   "cell_type": "code",
   "execution_count": 18,
   "metadata": {},
   "outputs": [],
   "source": [
    "#list1 = [1,2,3,4,5]\n",
    "#list2 = [1,0,1,0,1]\n",
    "#list_sum = 0\n",
    "#x=0\n",
    "#for x in range(5):\n",
    " #  list_sum += (list1[x]*list2[x]) \n",
    "#print(x)\n",
    "#print(list_sum)"
   ]
  },
  {
   "cell_type": "code",
   "execution_count": 19,
   "metadata": {},
   "outputs": [],
   "source": [
    "#a, b, output\n",
    "#list1[1]"
   ]
  },
  {
   "cell_type": "code",
   "execution_count": 20,
   "metadata": {},
   "outputs": [],
   "source": [
    "#for i in range(2):\n",
    " #       output += (a[i] * b[i]) \n",
    "        #return output\n"
   ]
  },
  {
   "cell_type": "code",
   "execution_count": 21,
   "metadata": {},
   "outputs": [],
   "source": [
    "#for x in range(3):\n",
    "#    print (x)\n",
    "#else:\n",
    "#    print ('Final x = %d' % (x))"
   ]
  },
  {
   "cell_type": "code",
   "execution_count": 22,
   "metadata": {},
   "outputs": [],
   "source": [
    "def neural_network(input, weights):\n",
    "    pred = w_sum(input, weights)\n",
    "    return pred"
   ]
  },
  {
   "cell_type": "code",
   "execution_count": 23,
   "metadata": {},
   "outputs": [],
   "source": [
    "a=input\n",
    "b= weights\n",
    "\n",
    "def w_sum(a,b):\n",
    "    assert(len(a) == len(b))\n",
    "    output = 0\n",
    "    for i in range(3):\n",
    "        output += (a[i] * b[i]) \n",
    "    return output"
   ]
  },
  {
   "cell_type": "code",
   "execution_count": 24,
   "metadata": {},
   "outputs": [],
   "source": [
    "#/* This is the dataset we will use */\n",
    "toes= [8.5, 9.5, 9.9, 9.0]\n",
    "wlrec= [0.65, 0.8, 0.8, 0.9]\n",
    "nfans= [1.2, 1.3, 0.5, 1.0]"
   ]
  },
  {
   "cell_type": "code",
   "execution_count": 25,
   "metadata": {},
   "outputs": [],
   "source": [
    "#Input corresponds to every entry\n",
    "input= [toes[0], wlrec[0], nfans[0]]"
   ]
  },
  {
   "cell_type": "code",
   "execution_count": 26,
   "metadata": {},
   "outputs": [],
   "source": [
    "#pred1 (range(2)) = neural_network(input, weights)"
   ]
  },
  {
   "cell_type": "code",
   "execution_count": 27,
   "metadata": {},
   "outputs": [],
   "source": [
    "#al=list(range(3))"
   ]
  },
  {
   "cell_type": "code",
   "execution_count": 28,
   "metadata": {},
   "outputs": [],
   "source": [
    "#al"
   ]
  },
  {
   "cell_type": "code",
   "execution_count": 29,
   "metadata": {},
   "outputs": [
    {
     "data": {
      "text/plain": [
       "[8.5, 0.65, 1.2]"
      ]
     },
     "execution_count": 29,
     "metadata": {},
     "output_type": "execute_result"
    }
   ],
   "source": [
    "input"
   ]
  },
  {
   "cell_type": "code",
   "execution_count": 30,
   "metadata": {},
   "outputs": [
    {
     "data": {
      "text/plain": [
       "[0.1, 0.2, 0]"
      ]
     },
     "execution_count": 30,
     "metadata": {},
     "output_type": "execute_result"
    }
   ],
   "source": [
    "weights"
   ]
  },
  {
   "cell_type": "code",
   "execution_count": 31,
   "metadata": {},
   "outputs": [
    {
     "name": "stdout",
     "output_type": "stream",
     "text": [
      "0\n"
     ]
    }
   ],
   "source": [
    "pred= neural_network(input, weights)\n",
    "print(output)"
   ]
  },
  {
   "cell_type": "code",
   "execution_count": 32,
   "metadata": {},
   "outputs": [
    {
     "name": "stdout",
     "output_type": "stream",
     "text": [
      "0.9800000000000001\n"
     ]
    }
   ],
   "source": [
    "print (pred)"
   ]
  },
  {
   "cell_type": "markdown",
   "metadata": {},
   "source": [
    "# Ejemplo 3"
   ]
  },
  {
   "cell_type": "code",
   "execution_count": 236,
   "metadata": {},
   "outputs": [],
   "source": [
    "def elementwise_multiplication(vec_a, vec_b):\n",
    "    elm=0\n",
    "    for i in range(3):\n",
    "        elm += (vec_a[i] * vec_b[i])\n",
    "    return elm"
   ]
  },
  {
   "cell_type": "code",
   "execution_count": 237,
   "metadata": {},
   "outputs": [],
   "source": [
    "def elementwise_mult(vec_a, vec_b):\n",
    "    assert(len(vec_a) == len(vec_b))\n",
    "    elmn=list(range(3))\n",
    "    i=0\n",
    "    #print(elmsa)\n",
    "    for i in range(3):\n",
    "        elmn[i] = vec_a[i] * vec_b[i]\n",
    "    return elmn"
   ]
  },
  {
   "cell_type": "code",
   "execution_count": 238,
   "metadata": {},
   "outputs": [],
   "source": [
    "def elementwise_addition(vec_a, vec_b):\n",
    "    assert(len(vec_a) == len(vec_b))\n",
    "    elms=0\n",
    "    for i in range(3):\n",
    "        elms += vec_a[i] + vec_b[i]\n",
    "    return elms"
   ]
  },
  {
   "cell_type": "code",
   "execution_count": 239,
   "metadata": {},
   "outputs": [],
   "source": [
    "def elementwise_add(vec_a, vec_b):\n",
    "    assert(len(vec_a) == len(vec_b))\n",
    "    elmsa=list(range(3))\n",
    "    i=0\n",
    "    #print(elmsa)\n",
    "    for i in range(3):\n",
    "        elmsa[i] = vec_a[i] + vec_b[i]\n",
    "    return elmsa"
   ]
  },
  {
   "cell_type": "code",
   "execution_count": 240,
   "metadata": {},
   "outputs": [],
   "source": [
    "def vector_sum(vec_a):\n",
    "    vcs=0\n",
    "    for i in range(3):\n",
    "        vcs += vec_a[i] \n",
    "    return vcs"
   ]
  },
  {
   "cell_type": "code",
   "execution_count": 241,
   "metadata": {},
   "outputs": [],
   "source": [
    "def vector_avg(vec_a):\n",
    "    vca=0\n",
    "    i=0\n",
    "    for i in range(3):\n",
    "        #vca += vec_a[i]\n",
    "        if i == 2:\n",
    "            vca = (vca+vec_a[i])/3\n",
    "        else:\n",
    "            vca += vec_a[i]\n",
    "    return vca"
   ]
  },
  {
   "cell_type": "code",
   "execution_count": 242,
   "metadata": {},
   "outputs": [
    {
     "data": {
      "text/plain": [
       "([8.5, 0.65, 1.2], [0.1, 0.2, 0])"
      ]
     },
     "execution_count": 242,
     "metadata": {},
     "output_type": "execute_result"
    }
   ],
   "source": [
    "input, weights"
   ]
  },
  {
   "cell_type": "code",
   "execution_count": 243,
   "metadata": {},
   "outputs": [
    {
     "name": "stdout",
     "output_type": "stream",
     "text": [
      "0.9800000000000001\n"
     ]
    }
   ],
   "source": [
    "Res1=elementwise_multiplication(input, weights)\n",
    "print(Res1)"
   ]
  },
  {
   "cell_type": "code",
   "execution_count": 244,
   "metadata": {},
   "outputs": [
    {
     "name": "stdout",
     "output_type": "stream",
     "text": [
      "10.649999999999999\n"
     ]
    }
   ],
   "source": [
    "Res2=elementwise_addition(input, weights)\n",
    "print(Res2)"
   ]
  },
  {
   "cell_type": "code",
   "execution_count": 245,
   "metadata": {},
   "outputs": [
    {
     "name": "stdout",
     "output_type": "stream",
     "text": [
      "10.35\n"
     ]
    }
   ],
   "source": [
    "Res3=vector_sum(input)\n",
    "print(Res3)"
   ]
  },
  {
   "cell_type": "code",
   "execution_count": 246,
   "metadata": {},
   "outputs": [
    {
     "name": "stdout",
     "output_type": "stream",
     "text": [
      "3.4499999999999997\n"
     ]
    }
   ],
   "source": [
    "Res4=vector_avg(input)\n",
    "print(Res4)"
   ]
  },
  {
   "cell_type": "code",
   "execution_count": 247,
   "metadata": {},
   "outputs": [
    {
     "name": "stdout",
     "output_type": "stream",
     "text": [
      "[8.6, 0.8500000000000001, 1.2]\n"
     ]
    }
   ],
   "source": [
    "Res5=elementwise_add(input, weights)\n",
    "print(Res5)"
   ]
  },
  {
   "cell_type": "code",
   "execution_count": 248,
   "metadata": {},
   "outputs": [
    {
     "name": "stdout",
     "output_type": "stream",
     "text": [
      "[0.8500000000000001, 0.13, 0.0]\n"
     ]
    }
   ],
   "source": [
    "Res6=elementwise_mult(input, weights)\n",
    "print(Res6)"
   ]
  },
  {
   "cell_type": "code",
   "execution_count": null,
   "metadata": {},
   "outputs": [],
   "source": []
  }
 ],
 "metadata": {
  "kernelspec": {
   "display_name": "Python 3",
   "language": "python",
   "name": "python3"
  },
  "language_info": {
   "codemirror_mode": {
    "name": "ipython",
    "version": 3
   },
   "file_extension": ".py",
   "mimetype": "text/x-python",
   "name": "python",
   "nbconvert_exporter": "python",
   "pygments_lexer": "ipython3",
   "version": "3.6.4"
  }
 },
 "nbformat": 4,
 "nbformat_minor": 2
}
