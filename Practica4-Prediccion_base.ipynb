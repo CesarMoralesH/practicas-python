{
 "cells": [
  {
   "cell_type": "code",
   "execution_count": 1,
   "metadata": {},
   "outputs": [],
   "source": [
    "# Importar librerías\n",
    "import numpy as np \n"
   ]
  },
  {
   "cell_type": "code",
   "execution_count": 2,
   "metadata": {},
   "outputs": [],
   "source": [
    "# Definir variables\n",
    "weights= [[0.1, 0.1, -0.3],#hurt?\n",
    "          [0.1, 0.2, 0.0], #win?\n",
    "          [0.0, 1.3, 0.1]]#sad?\n",
    "toes= [8.5, 9.5, 9.9, 9.0]\n",
    "wlrec= [0.65, 0.8, 0.8, 0.9]\n",
    "nfans= [1.2, 1.3, 0.5, 1.0]\n",
    "input1= [toes[0], wlrec[0], nfans[0]]\n",
    "input2= [toes[1], wlrec[1], nfans[1]]\n",
    "\n"
   ]
  },
  {
   "cell_type": "code",
   "execution_count": 3,
   "metadata": {},
   "outputs": [],
   "source": [
    "# Realizar operaciones\n",
    "pred_1 = np.multiply(input1, weights)\n",
    "list1_1= sum(pred_1[0])\n",
    "list2_1= sum(pred_1[1])\n",
    "list3_1= sum(pred_1[2])\n",
    "pred_2 = np.multiply(input2, weights)\n",
    "list1_2= sum(pred_2[0])\n",
    "list2_2= sum(pred_2[1])\n",
    "list3_2= sum(pred_2[2])\n",
    "\n"
   ]
  },
  {
   "cell_type": "code",
   "execution_count": 4,
   "metadata": {},
   "outputs": [
    {
     "name": "stdout",
     "output_type": "stream",
     "text": [
      "Predicción de entrada 1[[ 0.85   0.065 -0.36 ]\n",
      " [ 0.85   0.13   0.   ]\n",
      " [ 0.     0.845  0.12 ]]\n",
      "The result of hurt prediction is 0.555 of win prediction is 0.9800000000000001 and of sad prediction is  0.9650000000000001\n",
      "Predicción de entrada 2[[ 0.95  0.08 -0.39]\n",
      " [ 0.95  0.16  0.  ]\n",
      " [ 0.    1.04  0.13]]\n",
      "The result of hurt prediction is 0.64 of win prediction is 1.11 and of sad prediction is  1.17\n"
     ]
    }
   ],
   "source": [
    "# Imprimir resultados\n",
    "print(\"Predicción de entrada 1\"+str(pred_1))\n",
    "print(\"The result of hurt prediction is\", list1_1, \"of win prediction is\", list2_1, \"and of sad prediction is \", list3_1)\n",
    "\n",
    "print(\"Predicción de entrada 2\"+str(pred_2))\n",
    "print(\"The result of hurt prediction is\", list1_2, \"of win prediction is\", list2_2, \"and of sad prediction is \", list3_2)\n"
   ]
  },
  {
   "cell_type": "code",
   "execution_count": null,
   "metadata": {},
   "outputs": [],
   "source": []
  }
 ],
 "metadata": {
  "kernelspec": {
   "display_name": "Python 3",
   "language": "python",
   "name": "python3"
  },
  "language_info": {
   "codemirror_mode": {
    "name": "ipython",
    "version": 3
   },
   "file_extension": ".py",
   "mimetype": "text/x-python",
   "name": "python",
   "nbconvert_exporter": "python",
   "pygments_lexer": "ipython3",
   "version": "3.6.5"
  }
 },
 "nbformat": 4,
 "nbformat_minor": 2
}
