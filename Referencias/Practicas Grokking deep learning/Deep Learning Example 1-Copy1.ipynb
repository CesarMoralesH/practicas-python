{
 "cells": [
  {
   "cell_type": "code",
   "execution_count": 1,
   "metadata": {},
   "outputs": [],
   "source": [
    "import numpy as np"
   ]
  },
  {
   "cell_type": "code",
   "execution_count": 2,
   "metadata": {},
   "outputs": [],
   "source": [
    "np.random.seed(1)"
   ]
  },
  {
   "cell_type": "code",
   "execution_count": 3,
   "metadata": {},
   "outputs": [],
   "source": [
    "def relu(x):\n",
    "    return (x > 0) * x"
   ]
  },
  {
   "cell_type": "code",
   "execution_count": 5,
   "metadata": {},
   "outputs": [],
   "source": [
    "alpha= 0.2\n",
    "hidden_size= 4\n",
    "streetlights= np.array([[1,0,1], [0,1,1], [0,0,1], [1,1,1]])\n",
    "walk_vs_stop= np.array([[1,1,0,0]]).T\n",
    "\n",
    "weights_0_1= 2* np.random.random((3, hidden_size)) - 1\n",
    "weights_1_2= 2* np.random.random((hidden_size, 1)) - 1\n",
    "\n",
    "layer_0= streetlights[0]\n",
    "layer_1= relu(np.dot(layer_0,weights_0_1))\n",
    "layer_2= np.dot(layer_1, weights_1_2)"
   ]
  },
  {
   "cell_type": "markdown",
   "metadata": {},
   "source": [
    "## Backpropagation in code"
   ]
  },
  {
   "cell_type": "code",
   "execution_count": 6,
   "metadata": {},
   "outputs": [],
   "source": [
    "import numpy as np"
   ]
  },
  {
   "cell_type": "code",
   "execution_count": 7,
   "metadata": {},
   "outputs": [],
   "source": [
    "np.random.seed(1)"
   ]
  },
  {
   "cell_type": "code",
   "execution_count": 10,
   "metadata": {},
   "outputs": [],
   "source": [
    "def relu(x):\n",
    "    return (x > 0) * x "
   ]
  },
  {
   "cell_type": "code",
   "execution_count": 11,
   "metadata": {},
   "outputs": [],
   "source": [
    "def relu2deriv(output):\n",
    "    return output>0"
   ]
  },
  {
   "cell_type": "code",
   "execution_count": 12,
   "metadata": {},
   "outputs": [
    {
     "name": "stdout",
     "output_type": "stream",
     "text": [
      "Error: 1.5917785930433102\n",
      "Error: 1.459807623530446\n",
      "Error: 1.406615166969481\n",
      "Error: 1.370936154089727\n",
      "Error: 1.3171814077744681\n",
      "Error: 1.1676938947594402\n"
     ]
    }
   ],
   "source": [
    "alpha= 0.2\n",
    "hidden_size= 4\n",
    "\n",
    "streetlights= np.array([[1,0,1], [0,1,1], [0,0,1], [1,1,1]])\n",
    "walk_vs_stop= np.array([[1,1,0,0]]).T\n",
    "\n",
    "weights_0_1= 2* np.random.random((3, hidden_size)) - 1\n",
    "weights_1_2= 2* np.random.random((hidden_size, 1)) - 1\n",
    "\n",
    "for iteration in range(60):\n",
    "    layer_2_error=0\n",
    "    for i in range(len(streetlights)):\n",
    "        layer_0= streetlights[i:i+1]\n",
    "        layer_1= relu(np.dot(layer_0,weights_0_1))\n",
    "        layer_2= np.dot(layer_1, weights_1_2)\n",
    "        \n",
    "        layer_2_error += np.sum((layer_2 - walk_vs_stop[i:i+1]) ** 2)\n",
    "        \n",
    "        layer_2_delta= (walk_vs_stop[i:i+1] - layer_2)\n",
    "        layer_1_delta= layer_2_delta.dot(weights_1_2.T) * relu2deriv(layer_1)\n",
    "        \n",
    "        weights_1_2 += alpha * layer_1.T.dot(layer_2_delta)\n",
    "        weights_0_1 += alpha * layer_0.T.dot(layer_1_delta)\n",
    "        \n",
    "    if(iteration % 10 == 9):\n",
    "        print(\"Error: \"+ str(layer_2_error))"
   ]
  },
  {
   "cell_type": "markdown",
   "metadata": {},
   "source": [
    "### Example 3"
   ]
  },
  {
   "cell_type": "code",
   "execution_count": 21,
   "metadata": {},
   "outputs": [],
   "source": [
    "import numpy as np\n",
    "np.random.seed(1)"
   ]
  },
  {
   "cell_type": "code",
   "execution_count": 22,
   "metadata": {},
   "outputs": [],
   "source": [
    "def relu(x):\n",
    "    return (x > 0) * x "
   ]
  },
  {
   "cell_type": "code",
   "execution_count": 23,
   "metadata": {},
   "outputs": [],
   "source": [
    "def relu2deriv(output):\n",
    "    return output>0"
   ]
  },
  {
   "cell_type": "code",
   "execution_count": 24,
   "metadata": {},
   "outputs": [],
   "source": [
    "alpha= 0.2\n",
    "hidden_size= 3 \n",
    "lights= np.array([[1,0,1], [0,1,1], [0,0,1], [1,1,1]]) #streetlights= np.array([[1,0,1], [0,1,1], [0,0,1], [1,1,1]])\n",
    "walk_vs_stop= np.array([[1,1,0,0]]).T\n",
    "\n",
    "weights_0_1= 2* np.random.random((3, hidden_size)) - 1\n",
    "weights_1_2= 2* np.random.random((hidden_size, 1)) - 1"
   ]
  },
  {
   "cell_type": "code",
   "execution_count": 35,
   "metadata": {},
   "outputs": [],
   "source": [
    "layer_0= lights[0:1]\n",
    "layer_1= np.dot(layer_0, weights_0_1)\n",
    "layer_1= relu(layer_1) \n",
    "layer_2= np.dot(layer_1, weights_1_2)\n",
    "error= (layer_2 - walk_vs_stop[0:1]) **2\n",
    "layer_2_delta= (error) **0.5 #(walk_vs_stop[0:1]-layer_2)\n",
    "# layer_1_delta= layer_2_delta.dot(weights_1_2.T) * relu2deriv(layer_1) #   weights_1_2 += alpha * layer_1.T.dot(layer_2_delta)      #  weights_0_1 += alpha * layer_0.T.dot(layer_1_delta)\n",
    "# if(iteration % 10 == 9): #    print(\"Error: \"+ str(layer_2_error))"
   ]
  },
  {
   "cell_type": "code",
   "execution_count": 36,
   "metadata": {},
   "outputs": [
    {
     "name": "stdout",
     "output_type": "stream",
     "text": [
      "Layer 0: [[1 0 1]]\n",
      "Layer 1: [[-0.          0.13177044 -0.        ]]\n",
      "Layer 2: [[-0.02129555]]\n",
      "Error: [[1.0430446]]\n",
      "Delta of layer 2: [[1.02129555]]\n"
     ]
    }
   ],
   "source": [
    "print(\"Layer 0: \"+str(layer_0))\n",
    "print(\"Layer 1: \" + str(layer_1))\n",
    "print(\"Layer 2: \"+ str(layer_2))\n",
    "print(\"Error: \"+str(error))\n",
    "print(\"Delta of layer 2: \" + str(layer_2_delta))"
   ]
  },
  {
   "cell_type": "code",
   "execution_count": 38,
   "metadata": {},
   "outputs": [],
   "source": [
    "#BACKPROPAGATION FROM LAYER 2 TO LAYER 1"
   ]
  },
  {
   "cell_type": "code",
   "execution_count": 39,
   "metadata": {},
   "outputs": [
    {
     "name": "stdout",
     "output_type": "stream",
     "text": [
      "Delta of layer 1= [[ 0.         -0.16505257  0.        ]]\n"
     ]
    }
   ],
   "source": [
    "layer_1_delta= layer_2_delta.dot(weights_1_2.T)\n",
    "layer_1_delta *= relu2deriv(layer_1)\n",
    "print(\"Delta of layer 1= \" + str(layer_1_delta))"
   ]
  },
  {
   "cell_type": "code",
   "execution_count": 40,
   "metadata": {},
   "outputs": [
    {
     "name": "stdout",
     "output_type": "stream",
     "text": [
      "Weight of delta_1= [[ 0.         -0.16505257  0.        ]\n",
      " [ 0.         -0.          0.        ]\n",
      " [ 0.         -0.16505257  0.        ]], Weights_1=[[-0.16595599  0.4736595  -0.99977125]\n",
      " [-0.39533485 -0.70648822 -0.81532281]\n",
      " [-0.62747958 -0.27586803 -0.20646505]]\n",
      "Weight of delta_2= [[0.        ]\n",
      " [0.13457656]\n",
      " [0.        ]], Weights_2=[[ 0.07763347]\n",
      " [-0.18852628]\n",
      " [ 0.370439  ]]\n"
     ]
    }
   ],
   "source": [
    "weight_delta_1_2= layer_1.T.dot(layer_2_delta)\n",
    "weight_delta_0_1= layer_0.T.dot(layer_1_delta)\n",
    "\n",
    "weights_1_2 -= alpha* weight_delta_1_2 \n",
    "weights_0_1 -= alpha* weight_delta_0_1\n",
    "\n",
    "print(\"Weight of delta_1= \" + str(weight_delta_0_1) + \", Weights_1=\" +str(weights_0_1))\n",
    "print(\"Weight of delta_2= \" + str(weight_delta_1_2) + \", Weights_2=\" +str(weights_1_2))"
   ]
  },
  {
   "cell_type": "code",
   "execution_count": null,
   "metadata": {},
   "outputs": [],
   "source": []
  }
 ],
 "metadata": {
  "kernelspec": {
   "display_name": "Python 3",
   "language": "python",
   "name": "python3"
  },
  "language_info": {
   "codemirror_mode": {
    "name": "ipython",
    "version": 3
   },
   "file_extension": ".py",
   "mimetype": "text/x-python",
   "name": "python",
   "nbconvert_exporter": "python",
   "pygments_lexer": "ipython3",
   "version": "3.6.4"
  }
 },
 "nbformat": 4,
 "nbformat_minor": 2
}
